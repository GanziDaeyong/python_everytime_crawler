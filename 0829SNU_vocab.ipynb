{
 "cells": [
  {
   "cell_type": "code",
   "execution_count": null,
   "metadata": {},
   "outputs": [],
   "source": [
    "# 0. preparation\n",
    "import pandas as pd\n",
    "from konlpy.tag import Twitter\n",
    "t = Twitter()\n",
    "df = pd.read_csv(r'C:\\대용\\컴퓨터공부\\cs_portfolio\\everytime_corpus\\corpus 모음\\0829SNU.csv')\n"
   ]
  },
  {
   "cell_type": "code",
   "execution_count": null,
   "metadata": {},
   "outputs": [],
   "source": [
    "# 1. concatenate corpus' title & content\n",
    "per_article = []\n",
    "for i in range(df.shape[0]):\n",
    "    per =  df.title[i] + \" \" + df.content[i]\n",
    "    per_article.append(per)\n",
    "    if i%5000 == 0:\n",
    "        print(\"%d 번째\"%i)\n",
    "\n",
    "# 2. tokenize text using Konlpy(twitter) - might take some time..\n",
    "voca = []\n",
    "for i in range(len(per_article)):\n",
    "    voca.extend(t.nouns(per_article[i]))\n",
    "    if i%1000 == 0:\n",
    "        print(i)\n",
    "        \n",
    "# 3. write tokenized file to txt file.\n",
    "with open('C:\\대용\\컴퓨터공부\\cs_portfolio\\everytime_corpus\\Vocab(twitter).txt', 'w') as file:\n",
    "    for vocabs in voca:\n",
    "        file.write(vocabs + \"\\n\")\n",
    "        "
   ]
  },
  {
   "cell_type": "code",
   "execution_count": 46,
   "metadata": {
    "scrolled": false
   },
   "outputs": [],
   "source": [
    "# 4. read tokenzed txt file. if you already have txt file, start here.\n",
    "import re\n",
    "voca = []\n",
    "with open('C:\\대용\\컴퓨터공부\\cs_portfolio\\everytime_corpus\\Vocab(twitter).txt', 'r') as file:\n",
    "    lines = file.readlines()\n",
    "    for line in lines:\n",
    "        voca.append(re.sub(\"\\n\",\"\",line))\n",
    "        \n",
    "# 5. whether delete mono-syllable token?\n",
    "\n",
    "voca = [word for word in voca if len(word)> 1]\n",
    "\n",
    "# 6. Count frequency of each tokens,\n",
    "from collections import Counter\n",
    "voca_freq = Counter(voca)\n",
    "voca_freq.most_common(30)\n",
    "    "
   ]
  },
  {
   "cell_type": "code",
   "execution_count": 53,
   "metadata": {},
   "outputs": [
    {
     "data": {
      "text/plain": [
       "[('사람', 19627),\n",
       " ('교수', 18431),\n",
       " ('수업', 12966),\n",
       " ('학기', 10646),\n",
       " ('진짜', 9472),\n",
       " ('학점', 9261),\n",
       " ('오늘', 8660),\n",
       " ('시험', 8656),\n",
       " ('추천', 8249),\n",
       " ('생각', 8223),\n",
       " ('학교', 8148),\n",
       " ('공부', 7975),\n",
       " ('지금', 7840),\n",
       " ('그냥', 6927),\n",
       " ('강의', 6847),\n",
       " ('혹시', 6785),\n",
       " ('성적', 6537),\n",
       " ('정도', 6470),\n",
       " ('신청', 6258),\n",
       " ('하나', 6161),\n",
       " ('과제', 5890),\n",
       " ('계절', 5865),\n",
       " ('이번', 5807),\n",
       " ('서울대', 5556),\n",
       " ('시간', 5458),\n",
       " ('친구', 5056),\n",
       " ('문제', 4522),\n",
       " ('전공', 4426),\n",
       " ('과외', 4319),\n",
       " ('언제', 4197)]"
      ]
     },
     "execution_count": 53,
     "metadata": {},
     "output_type": "execute_result"
    }
   ],
   "source": []
  }
 ],
 "metadata": {
  "kernelspec": {
   "display_name": "Python 3",
   "language": "python",
   "name": "python3"
  },
  "language_info": {
   "codemirror_mode": {
    "name": "ipython",
    "version": 3
   },
   "file_extension": ".py",
   "mimetype": "text/x-python",
   "name": "python",
   "nbconvert_exporter": "python",
   "pygments_lexer": "ipython3",
   "version": "3.8.3rc1"
  }
 },
 "nbformat": 4,
 "nbformat_minor": 4
}
